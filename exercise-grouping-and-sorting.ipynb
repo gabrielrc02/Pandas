{
 "cells": [
  {
   "cell_type": "markdown",
   "id": "35cf8ed5",
   "metadata": {
    "papermill": {
     "duration": 0.008127,
     "end_time": "2023-06-13T10:17:30.209051",
     "exception": false,
     "start_time": "2023-06-13T10:17:30.200924",
     "status": "completed"
    },
    "tags": []
   },
   "source": [
    "**This notebook is an exercise in the [Pandas](https://www.kaggle.com/learn/pandas) course.  You can reference the tutorial at [this link](https://www.kaggle.com/residentmario/grouping-and-sorting).**\n",
    "\n",
    "---\n"
   ]
  },
  {
   "cell_type": "markdown",
   "id": "8aae2375",
   "metadata": {
    "papermill": {
     "duration": 0.007936,
     "end_time": "2023-06-13T10:17:30.225332",
     "exception": false,
     "start_time": "2023-06-13T10:17:30.217396",
     "status": "completed"
    },
    "tags": []
   },
   "source": [
    "# Introduction\n",
    "\n",
    "In these exercises we'll apply groupwise analysis to our dataset.\n",
    "\n",
    "Run the code cell below to load the data before running the exercises."
   ]
  },
  {
   "cell_type": "code",
   "execution_count": 1,
   "id": "35fa04e1",
   "metadata": {
    "execution": {
     "iopub.execute_input": "2023-06-13T10:17:30.242737Z",
     "iopub.status.busy": "2023-06-13T10:17:30.242301Z",
     "iopub.status.idle": "2023-06-13T10:17:33.930444Z",
     "shell.execute_reply": "2023-06-13T10:17:33.928995Z"
    },
    "papermill": {
     "duration": 3.700444,
     "end_time": "2023-06-13T10:17:33.933483",
     "exception": false,
     "start_time": "2023-06-13T10:17:30.233039",
     "status": "completed"
    },
    "tags": []
   },
   "outputs": [
    {
     "name": "stdout",
     "output_type": "stream",
     "text": [
      "Setup complete.\n"
     ]
    }
   ],
   "source": [
    "import pandas as pd\n",
    "\n",
    "reviews = pd.read_csv(\"../input/wine-reviews/winemag-data-130k-v2.csv\", index_col=0)\n",
    "#pd.set_option(\"display.max_rows\", 5)\n",
    "\n",
    "from learntools.core import binder; binder.bind(globals())\n",
    "from learntools.pandas.grouping_and_sorting import *\n",
    "print(\"Setup complete.\")"
   ]
  },
  {
   "cell_type": "markdown",
   "id": "01266902",
   "metadata": {
    "papermill": {
     "duration": 0.007343,
     "end_time": "2023-06-13T10:17:33.948648",
     "exception": false,
     "start_time": "2023-06-13T10:17:33.941305",
     "status": "completed"
    },
    "tags": []
   },
   "source": [
    "# Exercises"
   ]
  },
  {
   "cell_type": "markdown",
   "id": "c5b29345",
   "metadata": {
    "papermill": {
     "duration": 0.008878,
     "end_time": "2023-06-13T10:17:33.965064",
     "exception": false,
     "start_time": "2023-06-13T10:17:33.956186",
     "status": "completed"
    },
    "tags": []
   },
   "source": [
    "## 1.\n",
    "Who are the most common wine reviewers in the dataset? Create a `Series` whose index is the `taster_twitter_handle` category from the dataset, and whose values count how many reviews each person wrote."
   ]
  },
  {
   "cell_type": "code",
   "execution_count": 2,
   "id": "133c6a9a",
   "metadata": {
    "execution": {
     "iopub.execute_input": "2023-06-13T10:17:33.982552Z",
     "iopub.status.busy": "2023-06-13T10:17:33.982123Z",
     "iopub.status.idle": "2023-06-13T10:17:34.031841Z",
     "shell.execute_reply": "2023-06-13T10:17:34.030615Z"
    },
    "papermill": {
     "duration": 0.062578,
     "end_time": "2023-06-13T10:17:34.035270",
     "exception": false,
     "start_time": "2023-06-13T10:17:33.972692",
     "status": "completed"
    },
    "tags": []
   },
   "outputs": [
    {
     "name": "stdout",
     "output_type": "stream",
     "text": [
      "taster_twitter_handle\n",
      "@AnneInVino          3685\n",
      "@JoeCz               5147\n",
      "@bkfiona               27\n",
      "@gordone_cellars     4177\n",
      "@kerinokeefe        10776\n",
      "@laurbuzz            1835\n",
      "@mattkettmann        6332\n",
      "@paulgwine           9532\n",
      "@suskostrzewa        1085\n",
      "@vboone              9537\n",
      "@vossroger          25514\n",
      "@wawinereport        4966\n",
      "@wineschach         15134\n",
      "@winewchristina         6\n",
      "@worldwineguys       1005\n",
      "Name: taster_twitter_handle, dtype: int64\n"
     ]
    },
    {
     "data": {
      "application/javascript": [
       "parent.postMessage({\"jupyterEvent\": \"custom.exercise_interaction\", \"data\": {\"outcomeType\": 1, \"valueTowardsCompletion\": 0.16666666666666666, \"interactionType\": 1, \"questionType\": 1, \"questionId\": \"1_ReviewsWritten\", \"learnToolsVersion\": \"0.3.4\", \"failureMessage\": \"\", \"exceptionClass\": \"\", \"trace\": \"\"}}, \"*\")"
      ],
      "text/plain": [
       "<IPython.core.display.Javascript object>"
      ]
     },
     "metadata": {},
     "output_type": "display_data"
    },
    {
     "data": {
      "text/markdown": [
       "<span style=\"color:#33cc33\">Correct:</span> \n",
       "\n",
       "\n",
       "```python\n",
       "reviews_written = reviews.groupby('taster_twitter_handle').size()\n",
       "```\n",
       "or\n",
       "```python\n",
       "reviews_written = reviews.groupby('taster_twitter_handle').taster_twitter_handle.count()\n",
       "```\n"
      ],
      "text/plain": [
       "Correct: \n",
       "\n",
       "\n",
       "```python\n",
       "reviews_written = reviews.groupby('taster_twitter_handle').size()\n",
       "```\n",
       "or\n",
       "```python\n",
       "reviews_written = reviews.groupby('taster_twitter_handle').taster_twitter_handle.count()\n",
       "```"
      ]
     },
     "metadata": {},
     "output_type": "display_data"
    }
   ],
   "source": [
    "# Your code here\n",
    "reviews_written = reviews.groupby('taster_twitter_handle').taster_twitter_handle.count()\n",
    "print(reviews_written)\n",
    "\n",
    "# Check your answer\n",
    "q1.check()"
   ]
  },
  {
   "cell_type": "code",
   "execution_count": 3,
   "id": "f6724a96",
   "metadata": {
    "execution": {
     "iopub.execute_input": "2023-06-13T10:17:34.054593Z",
     "iopub.status.busy": "2023-06-13T10:17:34.054160Z",
     "iopub.status.idle": "2023-06-13T10:17:34.059529Z",
     "shell.execute_reply": "2023-06-13T10:17:34.058186Z"
    },
    "papermill": {
     "duration": 0.018036,
     "end_time": "2023-06-13T10:17:34.062018",
     "exception": false,
     "start_time": "2023-06-13T10:17:34.043982",
     "status": "completed"
    },
    "tags": []
   },
   "outputs": [],
   "source": [
    "#q1.hint()\n",
    "#q1.solution()"
   ]
  },
  {
   "cell_type": "markdown",
   "id": "a5e8443c",
   "metadata": {
    "papermill": {
     "duration": 0.007946,
     "end_time": "2023-06-13T10:17:34.078112",
     "exception": false,
     "start_time": "2023-06-13T10:17:34.070166",
     "status": "completed"
    },
    "tags": []
   },
   "source": [
    "## 2.\n",
    "What is the best wine I can buy for a given amount of money? Create a `Series` whose index is wine prices and whose values is the maximum number of points a wine costing that much was given in a review. Sort the values by price, ascending (so that `4.0` dollars is at the top and `3300.0` dollars is at the bottom)."
   ]
  },
  {
   "cell_type": "code",
   "execution_count": 4,
   "id": "d813049d",
   "metadata": {
    "execution": {
     "iopub.execute_input": "2023-06-13T10:17:34.096976Z",
     "iopub.status.busy": "2023-06-13T10:17:34.096541Z",
     "iopub.status.idle": "2023-06-13T10:17:34.115389Z",
     "shell.execute_reply": "2023-06-13T10:17:34.114058Z"
    },
    "papermill": {
     "duration": 0.031167,
     "end_time": "2023-06-13T10:17:34.118063",
     "exception": false,
     "start_time": "2023-06-13T10:17:34.086896",
     "status": "completed"
    },
    "tags": []
   },
   "outputs": [
    {
     "name": "stdout",
     "output_type": "stream",
     "text": [
      "price\n",
      "4.0       86\n",
      "5.0       87\n",
      "6.0       88\n",
      "7.0       91\n",
      "8.0       91\n",
      "          ..\n",
      "1900.0    98\n",
      "2000.0    97\n",
      "2013.0    91\n",
      "2500.0    96\n",
      "3300.0    88\n",
      "Name: points, Length: 390, dtype: int64\n"
     ]
    },
    {
     "data": {
      "application/javascript": [
       "parent.postMessage({\"jupyterEvent\": \"custom.exercise_interaction\", \"data\": {\"outcomeType\": 1, \"valueTowardsCompletion\": 0.16666666666666666, \"interactionType\": 1, \"questionType\": 1, \"questionId\": \"2_BestRatingPerPrice\", \"learnToolsVersion\": \"0.3.4\", \"failureMessage\": \"\", \"exceptionClass\": \"\", \"trace\": \"\"}}, \"*\")"
      ],
      "text/plain": [
       "<IPython.core.display.Javascript object>"
      ]
     },
     "metadata": {},
     "output_type": "display_data"
    },
    {
     "data": {
      "text/markdown": [
       "<span style=\"color:#33cc33\">Correct</span>"
      ],
      "text/plain": [
       "Correct"
      ]
     },
     "metadata": {},
     "output_type": "display_data"
    }
   ],
   "source": [
    "best_rating_per_price = reviews.groupby('price').points.max()\n",
    "print(best_rating_per_price)\n",
    "\n",
    "# Check your answer\n",
    "q2.check()"
   ]
  },
  {
   "cell_type": "code",
   "execution_count": 5,
   "id": "d3ac0e1b",
   "metadata": {
    "execution": {
     "iopub.execute_input": "2023-06-13T10:17:34.138012Z",
     "iopub.status.busy": "2023-06-13T10:17:34.137591Z",
     "iopub.status.idle": "2023-06-13T10:17:34.142555Z",
     "shell.execute_reply": "2023-06-13T10:17:34.141351Z"
    },
    "papermill": {
     "duration": 0.018094,
     "end_time": "2023-06-13T10:17:34.145141",
     "exception": false,
     "start_time": "2023-06-13T10:17:34.127047",
     "status": "completed"
    },
    "tags": []
   },
   "outputs": [],
   "source": [
    "#q2.hint()\n",
    "#q2.solution()"
   ]
  },
  {
   "cell_type": "markdown",
   "id": "0dae591b",
   "metadata": {
    "papermill": {
     "duration": 0.009274,
     "end_time": "2023-06-13T10:17:34.163043",
     "exception": false,
     "start_time": "2023-06-13T10:17:34.153769",
     "status": "completed"
    },
    "tags": []
   },
   "source": [
    "## 3.\n",
    "What are the minimum and maximum prices for each `variety` of wine? Create a `DataFrame` whose index is the `variety` category from the dataset and whose values are the `min` and `max` values thereof."
   ]
  },
  {
   "cell_type": "code",
   "execution_count": 6,
   "id": "240bbd7f",
   "metadata": {
    "execution": {
     "iopub.execute_input": "2023-06-13T10:17:34.182309Z",
     "iopub.status.busy": "2023-06-13T10:17:34.181808Z",
     "iopub.status.idle": "2023-06-13T10:17:34.237734Z",
     "shell.execute_reply": "2023-06-13T10:17:34.236205Z"
    },
    "papermill": {
     "duration": 0.069113,
     "end_time": "2023-06-13T10:17:34.240812",
     "exception": false,
     "start_time": "2023-06-13T10:17:34.171699",
     "status": "completed"
    },
    "tags": []
   },
   "outputs": [
    {
     "name": "stdout",
     "output_type": "stream",
     "text": [
      "              min    max\n",
      "variety                 \n",
      "Abouriou     15.0   75.0\n",
      "Agiorgitiko  10.0   66.0\n",
      "Aglianico     6.0  180.0\n",
      "Aidani       27.0   27.0\n",
      "Airen         8.0   10.0\n",
      "...           ...    ...\n",
      "Zinfandel     5.0  100.0\n",
      "Zlahtina     13.0   16.0\n",
      "Zweigelt      9.0   70.0\n",
      "Çalkarası    19.0   19.0\n",
      "Žilavka      15.0   15.0\n",
      "\n",
      "[707 rows x 2 columns]\n"
     ]
    },
    {
     "data": {
      "application/javascript": [
       "parent.postMessage({\"jupyterEvent\": \"custom.exercise_interaction\", \"data\": {\"outcomeType\": 1, \"valueTowardsCompletion\": 0.16666666666666666, \"interactionType\": 1, \"questionType\": 1, \"questionId\": \"3_PriceExtremes\", \"learnToolsVersion\": \"0.3.4\", \"failureMessage\": \"\", \"exceptionClass\": \"\", \"trace\": \"\"}}, \"*\")"
      ],
      "text/plain": [
       "<IPython.core.display.Javascript object>"
      ]
     },
     "metadata": {},
     "output_type": "display_data"
    },
    {
     "data": {
      "text/markdown": [
       "<span style=\"color:#33cc33\">Correct</span>"
      ],
      "text/plain": [
       "Correct"
      ]
     },
     "metadata": {},
     "output_type": "display_data"
    }
   ],
   "source": [
    "price_extremes = reviews.groupby('variety').price.agg([min,max])\n",
    "print(price_extremes)\n",
    "\n",
    "# Check your answer\n",
    "q3.check()"
   ]
  },
  {
   "cell_type": "code",
   "execution_count": 7,
   "id": "7992f466",
   "metadata": {
    "execution": {
     "iopub.execute_input": "2023-06-13T10:17:34.262315Z",
     "iopub.status.busy": "2023-06-13T10:17:34.261919Z",
     "iopub.status.idle": "2023-06-13T10:17:34.267349Z",
     "shell.execute_reply": "2023-06-13T10:17:34.266019Z"
    },
    "papermill": {
     "duration": 0.019761,
     "end_time": "2023-06-13T10:17:34.270229",
     "exception": false,
     "start_time": "2023-06-13T10:17:34.250468",
     "status": "completed"
    },
    "tags": []
   },
   "outputs": [],
   "source": [
    "#q3.hint()\n",
    "#q3.solution()"
   ]
  },
  {
   "cell_type": "markdown",
   "id": "51d05e8d",
   "metadata": {
    "papermill": {
     "duration": 0.009727,
     "end_time": "2023-06-13T10:17:34.289320",
     "exception": false,
     "start_time": "2023-06-13T10:17:34.279593",
     "status": "completed"
    },
    "tags": []
   },
   "source": [
    "## 4.\n",
    "What are the most expensive wine varieties? Create a variable `sorted_varieties` containing a copy of the dataframe from the previous question where varieties are sorted in descending order based on minimum price, then on maximum price (to break ties)."
   ]
  },
  {
   "cell_type": "code",
   "execution_count": 8,
   "id": "26f1a11d",
   "metadata": {
    "execution": {
     "iopub.execute_input": "2023-06-13T10:17:34.310024Z",
     "iopub.status.busy": "2023-06-13T10:17:34.309586Z",
     "iopub.status.idle": "2023-06-13T10:17:34.326496Z",
     "shell.execute_reply": "2023-06-13T10:17:34.325712Z"
    },
    "papermill": {
     "duration": 0.030495,
     "end_time": "2023-06-13T10:17:34.329033",
     "exception": false,
     "start_time": "2023-06-13T10:17:34.298538",
     "status": "completed"
    },
    "tags": []
   },
   "outputs": [
    {
     "name": "stdout",
     "output_type": "stream",
     "text": [
      "                                  min    max\n",
      "variety                                     \n",
      "Ramisco                         495.0  495.0\n",
      "Terrantez                       236.0  236.0\n",
      "Francisa                        160.0  160.0\n",
      "Rosenmuskateller                150.0  150.0\n",
      "Tinta Negra Mole                112.0  112.0\n",
      "...                               ...    ...\n",
      "Roscetto                          NaN    NaN\n",
      "Sauvignon Blanc-Sauvignon Gris    NaN    NaN\n",
      "Tempranillo-Malbec                NaN    NaN\n",
      "Vital                             NaN    NaN\n",
      "Zelen                             NaN    NaN\n",
      "\n",
      "[707 rows x 2 columns]\n"
     ]
    },
    {
     "data": {
      "application/javascript": [
       "parent.postMessage({\"jupyterEvent\": \"custom.exercise_interaction\", \"data\": {\"outcomeType\": 1, \"valueTowardsCompletion\": 0.16666666666666666, \"interactionType\": 1, \"questionType\": 1, \"questionId\": \"4_SortedVarieties\", \"learnToolsVersion\": \"0.3.4\", \"failureMessage\": \"\", \"exceptionClass\": \"\", \"trace\": \"\"}}, \"*\")"
      ],
      "text/plain": [
       "<IPython.core.display.Javascript object>"
      ]
     },
     "metadata": {},
     "output_type": "display_data"
    },
    {
     "data": {
      "text/markdown": [
       "<span style=\"color:#33cc33\">Correct</span>"
      ],
      "text/plain": [
       "Correct"
      ]
     },
     "metadata": {},
     "output_type": "display_data"
    }
   ],
   "source": [
    "sorted_varieties = price_extremes.sort_values(by=['min','max'],ascending=False)\n",
    "print(sorted_varieties)\n",
    "# Check your answer\n",
    "q4.check()"
   ]
  },
  {
   "cell_type": "code",
   "execution_count": 9,
   "id": "250bdb61",
   "metadata": {
    "execution": {
     "iopub.execute_input": "2023-06-13T10:17:34.350311Z",
     "iopub.status.busy": "2023-06-13T10:17:34.349850Z",
     "iopub.status.idle": "2023-06-13T10:17:34.355312Z",
     "shell.execute_reply": "2023-06-13T10:17:34.354006Z"
    },
    "papermill": {
     "duration": 0.019304,
     "end_time": "2023-06-13T10:17:34.357845",
     "exception": false,
     "start_time": "2023-06-13T10:17:34.338541",
     "status": "completed"
    },
    "tags": []
   },
   "outputs": [],
   "source": [
    "#q4.hint()\n",
    "#q4.solution()"
   ]
  },
  {
   "cell_type": "markdown",
   "id": "f8eee6e9",
   "metadata": {
    "papermill": {
     "duration": 0.00945,
     "end_time": "2023-06-13T10:17:34.377275",
     "exception": false,
     "start_time": "2023-06-13T10:17:34.367825",
     "status": "completed"
    },
    "tags": []
   },
   "source": [
    "## 5.\n",
    "Create a `Series` whose index is reviewers and whose values is the average review score given out by that reviewer. Hint: you will need the `taster_name` and `points` columns."
   ]
  },
  {
   "cell_type": "code",
   "execution_count": 10,
   "id": "006ca6d9",
   "metadata": {
    "execution": {
     "iopub.execute_input": "2023-06-13T10:17:34.398402Z",
     "iopub.status.busy": "2023-06-13T10:17:34.398023Z",
     "iopub.status.idle": "2023-06-13T10:17:34.435266Z",
     "shell.execute_reply": "2023-06-13T10:17:34.434285Z"
    },
    "papermill": {
     "duration": 0.050586,
     "end_time": "2023-06-13T10:17:34.437500",
     "exception": false,
     "start_time": "2023-06-13T10:17:34.386914",
     "status": "completed"
    },
    "tags": []
   },
   "outputs": [
    {
     "name": "stdout",
     "output_type": "stream",
     "text": [
      "taster_name\n",
      "Alexander Peartree    85.855422\n",
      "Anna Lee C. Iijima    88.415629\n",
      "Anne Krebiehl MW      90.562551\n",
      "Carrie Dykes          86.395683\n",
      "Christina Pickard     87.833333\n",
      "Fiona Adams           86.888889\n",
      "Jeff Jenssen          88.319756\n",
      "Jim Gordon            88.626287\n",
      "Joe Czerwinski        88.536235\n",
      "Kerin O’Keefe         88.867947\n",
      "Lauren Buzzeo         87.739510\n",
      "Matt Kettmann         90.008686\n",
      "Michael Schachner     86.907493\n",
      "Mike DeSimone         89.101167\n",
      "Paul Gregutt          89.082564\n",
      "Roger Voss            88.708003\n",
      "Sean P. Sullivan      88.755739\n",
      "Susan Kostrzewa       86.609217\n",
      "Virginie Boone        89.213379\n",
      "Name: points, dtype: float64\n"
     ]
    },
    {
     "data": {
      "application/javascript": [
       "parent.postMessage({\"jupyterEvent\": \"custom.exercise_interaction\", \"data\": {\"outcomeType\": 1, \"valueTowardsCompletion\": 0.16666666666666666, \"interactionType\": 1, \"questionType\": 1, \"questionId\": \"5_ReviewerMeanRatings\", \"learnToolsVersion\": \"0.3.4\", \"failureMessage\": \"\", \"exceptionClass\": \"\", \"trace\": \"\"}}, \"*\")"
      ],
      "text/plain": [
       "<IPython.core.display.Javascript object>"
      ]
     },
     "metadata": {},
     "output_type": "display_data"
    },
    {
     "data": {
      "text/markdown": [
       "<span style=\"color:#33cc33\">Correct</span>"
      ],
      "text/plain": [
       "Correct"
      ]
     },
     "metadata": {},
     "output_type": "display_data"
    }
   ],
   "source": [
    "reviewer_mean_ratings = reviews.groupby('taster_name').points.mean()\n",
    "print(reviewer_mean_ratings)\n",
    "# Check your answer\n",
    "q5.check()"
   ]
  },
  {
   "cell_type": "code",
   "execution_count": 11,
   "id": "8eda260c",
   "metadata": {
    "execution": {
     "iopub.execute_input": "2023-06-13T10:17:34.459280Z",
     "iopub.status.busy": "2023-06-13T10:17:34.458853Z",
     "iopub.status.idle": "2023-06-13T10:17:34.462714Z",
     "shell.execute_reply": "2023-06-13T10:17:34.461855Z"
    },
    "papermill": {
     "duration": 0.0179,
     "end_time": "2023-06-13T10:17:34.465234",
     "exception": false,
     "start_time": "2023-06-13T10:17:34.447334",
     "status": "completed"
    },
    "tags": []
   },
   "outputs": [],
   "source": [
    "#q5.hint()\n",
    "#q5.solution()"
   ]
  },
  {
   "cell_type": "markdown",
   "id": "f87f0dd1",
   "metadata": {
    "papermill": {
     "duration": 0.009623,
     "end_time": "2023-06-13T10:17:34.485093",
     "exception": false,
     "start_time": "2023-06-13T10:17:34.475470",
     "status": "completed"
    },
    "tags": []
   },
   "source": [
    "Are there significant differences in the average scores assigned by the various reviewers? Run the cell below to use the `describe()` method to see a summary of the range of values."
   ]
  },
  {
   "cell_type": "code",
   "execution_count": 12,
   "id": "0d87b132",
   "metadata": {
    "execution": {
     "iopub.execute_input": "2023-06-13T10:17:34.507009Z",
     "iopub.status.busy": "2023-06-13T10:17:34.506583Z",
     "iopub.status.idle": "2023-06-13T10:17:34.519857Z",
     "shell.execute_reply": "2023-06-13T10:17:34.518460Z"
    },
    "papermill": {
     "duration": 0.027313,
     "end_time": "2023-06-13T10:17:34.522309",
     "exception": false,
     "start_time": "2023-06-13T10:17:34.494996",
     "status": "completed"
    },
    "tags": []
   },
   "outputs": [
    {
     "data": {
      "text/plain": [
       "count    19.000000\n",
       "mean     88.233026\n",
       "std       1.243610\n",
       "min      85.855422\n",
       "25%      87.323501\n",
       "50%      88.536235\n",
       "75%      88.975256\n",
       "max      90.562551\n",
       "Name: points, dtype: float64"
      ]
     },
     "execution_count": 12,
     "metadata": {},
     "output_type": "execute_result"
    }
   ],
   "source": [
    "reviewer_mean_ratings.describe()"
   ]
  },
  {
   "cell_type": "markdown",
   "id": "895b5890",
   "metadata": {
    "papermill": {
     "duration": 0.010255,
     "end_time": "2023-06-13T10:17:34.543248",
     "exception": false,
     "start_time": "2023-06-13T10:17:34.532993",
     "status": "completed"
    },
    "tags": []
   },
   "source": [
    "## 6.\n",
    "What combination of countries and varieties are most common? Create a `Series` whose index is a `MultiIndex`of `{country, variety}` pairs. For example, a pinot noir produced in the US should map to `{\"US\", \"Pinot Noir\"}`. Sort the values in the `Series` in descending order based on wine count."
   ]
  },
  {
   "cell_type": "code",
   "execution_count": 13,
   "id": "1981dd7d",
   "metadata": {
    "execution": {
     "iopub.execute_input": "2023-06-13T10:17:34.566199Z",
     "iopub.status.busy": "2023-06-13T10:17:34.565731Z",
     "iopub.status.idle": "2023-06-13T10:17:34.636674Z",
     "shell.execute_reply": "2023-06-13T10:17:34.635514Z"
    },
    "papermill": {
     "duration": 0.085532,
     "end_time": "2023-06-13T10:17:34.639439",
     "exception": false,
     "start_time": "2023-06-13T10:17:34.553907",
     "status": "completed"
    },
    "tags": []
   },
   "outputs": [
    {
     "name": "stdout",
     "output_type": "stream",
     "text": [
      "country  variety                 \n",
      "US       Pinot Noir                  9885\n",
      "         Cabernet Sauvignon          7315\n",
      "         Chardonnay                  6801\n",
      "France   Bordeaux-style Red Blend    4725\n",
      "Italy    Red Blend                   3624\n",
      "                                     ... \n",
      "Mexico   Cinsault                       1\n",
      "         Grenache                       1\n",
      "         Merlot                         1\n",
      "         Rosado                         1\n",
      "Uruguay  White Blend                    1\n",
      "Length: 1612, dtype: int64\n"
     ]
    },
    {
     "data": {
      "application/javascript": [
       "parent.postMessage({\"jupyterEvent\": \"custom.exercise_interaction\", \"data\": {\"outcomeType\": 1, \"valueTowardsCompletion\": 0.16666666666666666, \"interactionType\": 1, \"questionType\": 1, \"questionId\": \"6_GroupbyCountryVariety\", \"learnToolsVersion\": \"0.3.4\", \"failureMessage\": \"\", \"exceptionClass\": \"\", \"trace\": \"\"}}, \"*\")"
      ],
      "text/plain": [
       "<IPython.core.display.Javascript object>"
      ]
     },
     "metadata": {},
     "output_type": "display_data"
    },
    {
     "data": {
      "text/markdown": [
       "<span style=\"color:#33cc33\">Correct</span>"
      ],
      "text/plain": [
       "Correct"
      ]
     },
     "metadata": {},
     "output_type": "display_data"
    }
   ],
   "source": [
    "country_variety_counts = reviews.groupby(['country','variety']).size().sort_values(ascending=False)\n",
    "print(country_variety_counts)\n",
    "# Check your answer\n",
    "q6.check()"
   ]
  },
  {
   "cell_type": "code",
   "execution_count": 14,
   "id": "2663c87d",
   "metadata": {
    "execution": {
     "iopub.execute_input": "2023-06-13T10:17:34.663230Z",
     "iopub.status.busy": "2023-06-13T10:17:34.662825Z",
     "iopub.status.idle": "2023-06-13T10:17:34.668386Z",
     "shell.execute_reply": "2023-06-13T10:17:34.667170Z"
    },
    "papermill": {
     "duration": 0.020781,
     "end_time": "2023-06-13T10:17:34.670909",
     "exception": false,
     "start_time": "2023-06-13T10:17:34.650128",
     "status": "completed"
    },
    "tags": []
   },
   "outputs": [],
   "source": [
    "#q6.hint()\n",
    "#q6.solution()"
   ]
  },
  {
   "cell_type": "markdown",
   "id": "e4fb5cb7",
   "metadata": {
    "papermill": {
     "duration": 0.011072,
     "end_time": "2023-06-13T10:17:34.692956",
     "exception": false,
     "start_time": "2023-06-13T10:17:34.681884",
     "status": "completed"
    },
    "tags": []
   },
   "source": [
    "# Keep going\n",
    "\n",
    "Move on to the [**data types and missing data**](https://www.kaggle.com/residentmario/data-types-and-missing-values)."
   ]
  },
  {
   "cell_type": "markdown",
   "id": "fcf8e5f8",
   "metadata": {
    "papermill": {
     "duration": 0.010473,
     "end_time": "2023-06-13T10:17:34.714547",
     "exception": false,
     "start_time": "2023-06-13T10:17:34.704074",
     "status": "completed"
    },
    "tags": []
   },
   "source": [
    "---\n",
    "\n",
    "\n",
    "\n",
    "\n",
    "*Have questions or comments? Visit the [course discussion forum](https://www.kaggle.com/learn/pandas/discussion) to chat with other learners.*"
   ]
  }
 ],
 "metadata": {
  "kernelspec": {
   "display_name": "Python 3",
   "language": "python",
   "name": "python3"
  },
  "language_info": {
   "codemirror_mode": {
    "name": "ipython",
    "version": 3
   },
   "file_extension": ".py",
   "mimetype": "text/x-python",
   "name": "python",
   "nbconvert_exporter": "python",
   "pygments_lexer": "ipython3",
   "version": "3.10.10"
  },
  "papermill": {
   "default_parameters": {},
   "duration": 20.786178,
   "end_time": "2023-06-13T10:17:37.704785",
   "environment_variables": {},
   "exception": null,
   "input_path": "__notebook__.ipynb",
   "output_path": "__notebook__.ipynb",
   "parameters": {},
   "start_time": "2023-06-13T10:17:16.918607",
   "version": "2.4.0"
  }
 },
 "nbformat": 4,
 "nbformat_minor": 5
}
