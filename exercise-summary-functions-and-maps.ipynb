{
 "cells": [
  {
   "cell_type": "markdown",
   "id": "1d202177",
   "metadata": {
    "papermill": {
     "duration": 0.006726,
     "end_time": "2023-06-10T18:06:39.094083",
     "exception": false,
     "start_time": "2023-06-10T18:06:39.087357",
     "status": "completed"
    },
    "tags": []
   },
   "source": [
    "**This notebook is an exercise in the [Pandas](https://www.kaggle.com/learn/pandas) course.  You can reference the tutorial at [this link](https://www.kaggle.com/residentmario/summary-functions-and-maps).**\n",
    "\n",
    "---\n"
   ]
  },
  {
   "cell_type": "markdown",
   "id": "6e64c51a",
   "metadata": {
    "papermill": {
     "duration": 0.005296,
     "end_time": "2023-06-10T18:06:39.105177",
     "exception": false,
     "start_time": "2023-06-10T18:06:39.099881",
     "status": "completed"
    },
    "tags": []
   },
   "source": [
    "# Introduction\n",
    "\n",
    "Now you are ready to get a deeper understanding of your data.\n",
    "\n",
    "Run the following cell to load your data and some utility functions (including code to check your answers)."
   ]
  },
  {
   "cell_type": "code",
   "execution_count": 1,
   "id": "69a1e737",
   "metadata": {
    "execution": {
     "iopub.execute_input": "2023-06-10T18:06:39.118198Z",
     "iopub.status.busy": "2023-06-10T18:06:39.117679Z",
     "iopub.status.idle": "2023-06-10T18:06:45.506972Z",
     "shell.execute_reply": "2023-06-10T18:06:45.505956Z"
    },
    "papermill": {
     "duration": 6.398464,
     "end_time": "2023-06-10T18:06:45.509066",
     "exception": false,
     "start_time": "2023-06-10T18:06:39.110602",
     "status": "completed"
    },
    "tags": []
   },
   "outputs": [
    {
     "name": "stdout",
     "output_type": "stream",
     "text": [
      "Setup complete.\n"
     ]
    },
    {
     "data": {
      "text/html": [
       "<div>\n",
       "<style scoped>\n",
       "    .dataframe tbody tr th:only-of-type {\n",
       "        vertical-align: middle;\n",
       "    }\n",
       "\n",
       "    .dataframe tbody tr th {\n",
       "        vertical-align: top;\n",
       "    }\n",
       "\n",
       "    .dataframe thead th {\n",
       "        text-align: right;\n",
       "    }\n",
       "</style>\n",
       "<table border=\"1\" class=\"dataframe\">\n",
       "  <thead>\n",
       "    <tr style=\"text-align: right;\">\n",
       "      <th></th>\n",
       "      <th>country</th>\n",
       "      <th>description</th>\n",
       "      <th>designation</th>\n",
       "      <th>points</th>\n",
       "      <th>price</th>\n",
       "      <th>province</th>\n",
       "      <th>region_1</th>\n",
       "      <th>region_2</th>\n",
       "      <th>taster_name</th>\n",
       "      <th>taster_twitter_handle</th>\n",
       "      <th>title</th>\n",
       "      <th>variety</th>\n",
       "      <th>winery</th>\n",
       "    </tr>\n",
       "  </thead>\n",
       "  <tbody>\n",
       "    <tr>\n",
       "      <th>0</th>\n",
       "      <td>Italy</td>\n",
       "      <td>Aromas include tropical fruit, broom, brimston...</td>\n",
       "      <td>Vulkà Bianco</td>\n",
       "      <td>87</td>\n",
       "      <td>NaN</td>\n",
       "      <td>Sicily &amp; Sardinia</td>\n",
       "      <td>Etna</td>\n",
       "      <td>NaN</td>\n",
       "      <td>Kerin O’Keefe</td>\n",
       "      <td>@kerinokeefe</td>\n",
       "      <td>Nicosia 2013 Vulkà Bianco  (Etna)</td>\n",
       "      <td>White Blend</td>\n",
       "      <td>Nicosia</td>\n",
       "    </tr>\n",
       "    <tr>\n",
       "      <th>1</th>\n",
       "      <td>Portugal</td>\n",
       "      <td>This is ripe and fruity, a wine that is smooth...</td>\n",
       "      <td>Avidagos</td>\n",
       "      <td>87</td>\n",
       "      <td>15.0</td>\n",
       "      <td>Douro</td>\n",
       "      <td>NaN</td>\n",
       "      <td>NaN</td>\n",
       "      <td>Roger Voss</td>\n",
       "      <td>@vossroger</td>\n",
       "      <td>Quinta dos Avidagos 2011 Avidagos Red (Douro)</td>\n",
       "      <td>Portuguese Red</td>\n",
       "      <td>Quinta dos Avidagos</td>\n",
       "    </tr>\n",
       "    <tr>\n",
       "      <th>2</th>\n",
       "      <td>US</td>\n",
       "      <td>Tart and snappy, the flavors of lime flesh and...</td>\n",
       "      <td>NaN</td>\n",
       "      <td>87</td>\n",
       "      <td>14.0</td>\n",
       "      <td>Oregon</td>\n",
       "      <td>Willamette Valley</td>\n",
       "      <td>Willamette Valley</td>\n",
       "      <td>Paul Gregutt</td>\n",
       "      <td>@paulgwine</td>\n",
       "      <td>Rainstorm 2013 Pinot Gris (Willamette Valley)</td>\n",
       "      <td>Pinot Gris</td>\n",
       "      <td>Rainstorm</td>\n",
       "    </tr>\n",
       "    <tr>\n",
       "      <th>3</th>\n",
       "      <td>US</td>\n",
       "      <td>Pineapple rind, lemon pith and orange blossom ...</td>\n",
       "      <td>Reserve Late Harvest</td>\n",
       "      <td>87</td>\n",
       "      <td>13.0</td>\n",
       "      <td>Michigan</td>\n",
       "      <td>Lake Michigan Shore</td>\n",
       "      <td>NaN</td>\n",
       "      <td>Alexander Peartree</td>\n",
       "      <td>NaN</td>\n",
       "      <td>St. Julian 2013 Reserve Late Harvest Riesling ...</td>\n",
       "      <td>Riesling</td>\n",
       "      <td>St. Julian</td>\n",
       "    </tr>\n",
       "    <tr>\n",
       "      <th>4</th>\n",
       "      <td>US</td>\n",
       "      <td>Much like the regular bottling from 2012, this...</td>\n",
       "      <td>Vintner's Reserve Wild Child Block</td>\n",
       "      <td>87</td>\n",
       "      <td>65.0</td>\n",
       "      <td>Oregon</td>\n",
       "      <td>Willamette Valley</td>\n",
       "      <td>Willamette Valley</td>\n",
       "      <td>Paul Gregutt</td>\n",
       "      <td>@paulgwine</td>\n",
       "      <td>Sweet Cheeks 2012 Vintner's Reserve Wild Child...</td>\n",
       "      <td>Pinot Noir</td>\n",
       "      <td>Sweet Cheeks</td>\n",
       "    </tr>\n",
       "  </tbody>\n",
       "</table>\n",
       "</div>"
      ],
      "text/plain": [
       "    country                                        description  \\\n",
       "0     Italy  Aromas include tropical fruit, broom, brimston...   \n",
       "1  Portugal  This is ripe and fruity, a wine that is smooth...   \n",
       "2        US  Tart and snappy, the flavors of lime flesh and...   \n",
       "3        US  Pineapple rind, lemon pith and orange blossom ...   \n",
       "4        US  Much like the regular bottling from 2012, this...   \n",
       "\n",
       "                          designation  points  price           province  \\\n",
       "0                        Vulkà Bianco      87    NaN  Sicily & Sardinia   \n",
       "1                            Avidagos      87   15.0              Douro   \n",
       "2                                 NaN      87   14.0             Oregon   \n",
       "3                Reserve Late Harvest      87   13.0           Michigan   \n",
       "4  Vintner's Reserve Wild Child Block      87   65.0             Oregon   \n",
       "\n",
       "              region_1           region_2         taster_name  \\\n",
       "0                 Etna                NaN       Kerin O’Keefe   \n",
       "1                  NaN                NaN          Roger Voss   \n",
       "2    Willamette Valley  Willamette Valley        Paul Gregutt   \n",
       "3  Lake Michigan Shore                NaN  Alexander Peartree   \n",
       "4    Willamette Valley  Willamette Valley        Paul Gregutt   \n",
       "\n",
       "  taster_twitter_handle                                              title  \\\n",
       "0          @kerinokeefe                  Nicosia 2013 Vulkà Bianco  (Etna)   \n",
       "1            @vossroger      Quinta dos Avidagos 2011 Avidagos Red (Douro)   \n",
       "2           @paulgwine       Rainstorm 2013 Pinot Gris (Willamette Valley)   \n",
       "3                   NaN  St. Julian 2013 Reserve Late Harvest Riesling ...   \n",
       "4           @paulgwine   Sweet Cheeks 2012 Vintner's Reserve Wild Child...   \n",
       "\n",
       "          variety               winery  \n",
       "0     White Blend              Nicosia  \n",
       "1  Portuguese Red  Quinta dos Avidagos  \n",
       "2      Pinot Gris            Rainstorm  \n",
       "3        Riesling           St. Julian  \n",
       "4      Pinot Noir         Sweet Cheeks  "
      ]
     },
     "execution_count": 1,
     "metadata": {},
     "output_type": "execute_result"
    }
   ],
   "source": [
    "import pandas as pd\n",
    "pd.set_option(\"display.max_rows\", 5)\n",
    "reviews = pd.read_csv(\"../input/wine-reviews/winemag-data-130k-v2.csv\", index_col=0)\n",
    "\n",
    "from learntools.core import binder; binder.bind(globals())\n",
    "from learntools.pandas.summary_functions_and_maps import *\n",
    "print(\"Setup complete.\")\n",
    "\n",
    "reviews.head()"
   ]
  },
  {
   "cell_type": "markdown",
   "id": "3f6841d7",
   "metadata": {
    "papermill": {
     "duration": 0.005726,
     "end_time": "2023-06-10T18:06:45.521231",
     "exception": false,
     "start_time": "2023-06-10T18:06:45.515505",
     "status": "completed"
    },
    "tags": []
   },
   "source": [
    "# Exercises"
   ]
  },
  {
   "cell_type": "markdown",
   "id": "6d526b33",
   "metadata": {
    "papermill": {
     "duration": 0.007109,
     "end_time": "2023-06-10T18:06:45.534276",
     "exception": false,
     "start_time": "2023-06-10T18:06:45.527167",
     "status": "completed"
    },
    "tags": []
   },
   "source": [
    "## 1.\n",
    "\n",
    "What is the median of the `points` column in the `reviews` DataFrame?"
   ]
  },
  {
   "cell_type": "code",
   "execution_count": 2,
   "id": "1198315d",
   "metadata": {
    "execution": {
     "iopub.execute_input": "2023-06-10T18:06:45.547617Z",
     "iopub.status.busy": "2023-06-10T18:06:45.547228Z",
     "iopub.status.idle": "2023-06-10T18:06:45.557589Z",
     "shell.execute_reply": "2023-06-10T18:06:45.556595Z"
    },
    "papermill": {
     "duration": 0.019855,
     "end_time": "2023-06-10T18:06:45.559980",
     "exception": false,
     "start_time": "2023-06-10T18:06:45.540125",
     "status": "completed"
    },
    "tags": []
   },
   "outputs": [
    {
     "data": {
      "application/javascript": [
       "parent.postMessage({\"jupyterEvent\": \"custom.exercise_interaction\", \"data\": {\"outcomeType\": 1, \"valueTowardsCompletion\": 0.14285714285714285, \"interactionType\": 1, \"questionType\": 1, \"questionId\": \"1_MedianPoints\", \"learnToolsVersion\": \"0.3.4\", \"failureMessage\": \"\", \"exceptionClass\": \"\", \"trace\": \"\"}}, \"*\")"
      ],
      "text/plain": [
       "<IPython.core.display.Javascript object>"
      ]
     },
     "metadata": {},
     "output_type": "display_data"
    },
    {
     "data": {
      "text/markdown": [
       "<span style=\"color:#33cc33\">Correct</span>"
      ],
      "text/plain": [
       "Correct"
      ]
     },
     "metadata": {},
     "output_type": "display_data"
    }
   ],
   "source": [
    "median_points = reviews.points.median()\n",
    "\n",
    "# Check your answer\n",
    "q1.check()"
   ]
  },
  {
   "cell_type": "code",
   "execution_count": 3,
   "id": "2ef63857",
   "metadata": {
    "execution": {
     "iopub.execute_input": "2023-06-10T18:06:45.574378Z",
     "iopub.status.busy": "2023-06-10T18:06:45.573509Z",
     "iopub.status.idle": "2023-06-10T18:06:45.577849Z",
     "shell.execute_reply": "2023-06-10T18:06:45.576765Z"
    },
    "papermill": {
     "duration": 0.013643,
     "end_time": "2023-06-10T18:06:45.579805",
     "exception": false,
     "start_time": "2023-06-10T18:06:45.566162",
     "status": "completed"
    },
    "tags": []
   },
   "outputs": [],
   "source": [
    "#q1.hint()\n",
    "#q1.solution()"
   ]
  },
  {
   "cell_type": "markdown",
   "id": "97f0019b",
   "metadata": {
    "papermill": {
     "duration": 0.006312,
     "end_time": "2023-06-10T18:06:45.592520",
     "exception": false,
     "start_time": "2023-06-10T18:06:45.586208",
     "status": "completed"
    },
    "tags": []
   },
   "source": [
    "## 2. \n",
    "What countries are represented in the dataset? (Your answer should not include any duplicates.)"
   ]
  },
  {
   "cell_type": "code",
   "execution_count": 4,
   "id": "3ac4cb7a",
   "metadata": {
    "execution": {
     "iopub.execute_input": "2023-06-10T18:06:45.606869Z",
     "iopub.status.busy": "2023-06-10T18:06:45.606175Z",
     "iopub.status.idle": "2023-06-10T18:06:45.618974Z",
     "shell.execute_reply": "2023-06-10T18:06:45.618121Z"
    },
    "papermill": {
     "duration": 0.022506,
     "end_time": "2023-06-10T18:06:45.621242",
     "exception": false,
     "start_time": "2023-06-10T18:06:45.598736",
     "status": "completed"
    },
    "tags": []
   },
   "outputs": [
    {
     "data": {
      "application/javascript": [
       "parent.postMessage({\"jupyterEvent\": \"custom.exercise_interaction\", \"data\": {\"outcomeType\": 1, \"valueTowardsCompletion\": 0.14285714285714285, \"interactionType\": 1, \"questionType\": 2, \"questionId\": \"2_UniqueCountries\", \"learnToolsVersion\": \"0.3.4\", \"failureMessage\": \"\", \"exceptionClass\": \"\", \"trace\": \"\"}}, \"*\")"
      ],
      "text/plain": [
       "<IPython.core.display.Javascript object>"
      ]
     },
     "metadata": {},
     "output_type": "display_data"
    },
    {
     "data": {
      "text/markdown": [
       "<span style=\"color:#33cc33\">Correct</span>"
      ],
      "text/plain": [
       "Correct"
      ]
     },
     "metadata": {},
     "output_type": "display_data"
    }
   ],
   "source": [
    "countries = reviews.country.unique()\n",
    "\n",
    "# Check your answer\n",
    "q2.check()"
   ]
  },
  {
   "cell_type": "code",
   "execution_count": 5,
   "id": "32d71d91",
   "metadata": {
    "execution": {
     "iopub.execute_input": "2023-06-10T18:06:45.635896Z",
     "iopub.status.busy": "2023-06-10T18:06:45.635522Z",
     "iopub.status.idle": "2023-06-10T18:06:45.639060Z",
     "shell.execute_reply": "2023-06-10T18:06:45.638134Z"
    },
    "papermill": {
     "duration": 0.013184,
     "end_time": "2023-06-10T18:06:45.640950",
     "exception": false,
     "start_time": "2023-06-10T18:06:45.627766",
     "status": "completed"
    },
    "tags": []
   },
   "outputs": [],
   "source": [
    "#q2.hint()\n",
    "#q2.solution()"
   ]
  },
  {
   "cell_type": "markdown",
   "id": "59903095",
   "metadata": {
    "papermill": {
     "duration": 0.006395,
     "end_time": "2023-06-10T18:06:45.653734",
     "exception": false,
     "start_time": "2023-06-10T18:06:45.647339",
     "status": "completed"
    },
    "tags": []
   },
   "source": [
    "## 3.\n",
    "How often does each country appear in the dataset? Create a Series `reviews_per_country` mapping countries to the count of reviews of wines from that country."
   ]
  },
  {
   "cell_type": "code",
   "execution_count": 6,
   "id": "45a500ef",
   "metadata": {
    "execution": {
     "iopub.execute_input": "2023-06-10T18:06:45.668305Z",
     "iopub.status.busy": "2023-06-10T18:06:45.667740Z",
     "iopub.status.idle": "2023-06-10T18:06:45.683966Z",
     "shell.execute_reply": "2023-06-10T18:06:45.683157Z"
    },
    "papermill": {
     "duration": 0.025766,
     "end_time": "2023-06-10T18:06:45.685829",
     "exception": false,
     "start_time": "2023-06-10T18:06:45.660063",
     "status": "completed"
    },
    "tags": []
   },
   "outputs": [
    {
     "data": {
      "application/javascript": [
       "parent.postMessage({\"jupyterEvent\": \"custom.exercise_interaction\", \"data\": {\"outcomeType\": 1, \"valueTowardsCompletion\": 0.14285714285714285, \"interactionType\": 1, \"questionType\": 1, \"questionId\": \"3_ReviewsPerCountry\", \"learnToolsVersion\": \"0.3.4\", \"failureMessage\": \"\", \"exceptionClass\": \"\", \"trace\": \"\"}}, \"*\")"
      ],
      "text/plain": [
       "<IPython.core.display.Javascript object>"
      ]
     },
     "metadata": {},
     "output_type": "display_data"
    },
    {
     "data": {
      "text/markdown": [
       "<span style=\"color:#33cc33\">Correct</span>"
      ],
      "text/plain": [
       "Correct"
      ]
     },
     "metadata": {},
     "output_type": "display_data"
    }
   ],
   "source": [
    "reviews_per_country = reviews.country.value_counts()\n",
    "\n",
    "# Check your answer\n",
    "q3.check()"
   ]
  },
  {
   "cell_type": "code",
   "execution_count": 7,
   "id": "7e840745",
   "metadata": {
    "execution": {
     "iopub.execute_input": "2023-06-10T18:06:45.701054Z",
     "iopub.status.busy": "2023-06-10T18:06:45.700462Z",
     "iopub.status.idle": "2023-06-10T18:06:45.703915Z",
     "shell.execute_reply": "2023-06-10T18:06:45.703171Z"
    },
    "papermill": {
     "duration": 0.013288,
     "end_time": "2023-06-10T18:06:45.705744",
     "exception": false,
     "start_time": "2023-06-10T18:06:45.692456",
     "status": "completed"
    },
    "tags": []
   },
   "outputs": [],
   "source": [
    "#q3.hint()\n",
    "#q3.solution()"
   ]
  },
  {
   "cell_type": "markdown",
   "id": "ec3aabc9",
   "metadata": {
    "papermill": {
     "duration": 0.006148,
     "end_time": "2023-06-10T18:06:45.718512",
     "exception": false,
     "start_time": "2023-06-10T18:06:45.712364",
     "status": "completed"
    },
    "tags": []
   },
   "source": [
    "## 4.\n",
    "Create variable `centered_price` containing a version of the `price` column with the mean price subtracted.\n",
    "\n",
    "(Note: this 'centering' transformation is a common preprocessing step before applying various machine learning algorithms.) "
   ]
  },
  {
   "cell_type": "code",
   "execution_count": 8,
   "id": "635a5aa8",
   "metadata": {
    "execution": {
     "iopub.execute_input": "2023-06-10T18:06:45.733706Z",
     "iopub.status.busy": "2023-06-10T18:06:45.733101Z",
     "iopub.status.idle": "2023-06-10T18:06:45.742348Z",
     "shell.execute_reply": "2023-06-10T18:06:45.741352Z"
    },
    "papermill": {
     "duration": 0.019078,
     "end_time": "2023-06-10T18:06:45.744417",
     "exception": false,
     "start_time": "2023-06-10T18:06:45.725339",
     "status": "completed"
    },
    "tags": []
   },
   "outputs": [
    {
     "data": {
      "application/javascript": [
       "parent.postMessage({\"jupyterEvent\": \"custom.exercise_interaction\", \"data\": {\"outcomeType\": 1, \"valueTowardsCompletion\": 0.14285714285714285, \"interactionType\": 1, \"questionType\": 1, \"questionId\": \"4_CenteredPrice\", \"learnToolsVersion\": \"0.3.4\", \"failureMessage\": \"\", \"exceptionClass\": \"\", \"trace\": \"\"}}, \"*\")"
      ],
      "text/plain": [
       "<IPython.core.display.Javascript object>"
      ]
     },
     "metadata": {},
     "output_type": "display_data"
    },
    {
     "data": {
      "text/markdown": [
       "<span style=\"color:#33cc33\">Correct</span>"
      ],
      "text/plain": [
       "Correct"
      ]
     },
     "metadata": {},
     "output_type": "display_data"
    }
   ],
   "source": [
    "centered_price = reviews.price - reviews.price.mean()\n",
    "\n",
    "# Check your answer\n",
    "q4.check()"
   ]
  },
  {
   "cell_type": "code",
   "execution_count": 9,
   "id": "f3f9ae49",
   "metadata": {
    "execution": {
     "iopub.execute_input": "2023-06-10T18:06:45.759639Z",
     "iopub.status.busy": "2023-06-10T18:06:45.759257Z",
     "iopub.status.idle": "2023-06-10T18:06:45.763551Z",
     "shell.execute_reply": "2023-06-10T18:06:45.762535Z"
    },
    "papermill": {
     "duration": 0.014305,
     "end_time": "2023-06-10T18:06:45.765615",
     "exception": false,
     "start_time": "2023-06-10T18:06:45.751310",
     "status": "completed"
    },
    "tags": []
   },
   "outputs": [],
   "source": [
    "#q4.hint()\n",
    "#q4.solution()"
   ]
  },
  {
   "cell_type": "markdown",
   "id": "58546357",
   "metadata": {
    "papermill": {
     "duration": 0.006648,
     "end_time": "2023-06-10T18:06:45.779020",
     "exception": false,
     "start_time": "2023-06-10T18:06:45.772372",
     "status": "completed"
    },
    "tags": []
   },
   "source": [
    "## 5.\n",
    "I'm an economical wine buyer. Which wine is the \"best bargain\"? Create a variable `bargain_wine` with the title of the wine with the highest points-to-price ratio in the dataset."
   ]
  },
  {
   "cell_type": "code",
   "execution_count": 10,
   "id": "379d535f",
   "metadata": {
    "execution": {
     "iopub.execute_input": "2023-06-10T18:06:45.794565Z",
     "iopub.status.busy": "2023-06-10T18:06:45.793834Z",
     "iopub.status.idle": "2023-06-10T18:06:45.807086Z",
     "shell.execute_reply": "2023-06-10T18:06:45.806287Z"
    },
    "papermill": {
     "duration": 0.02332,
     "end_time": "2023-06-10T18:06:45.809083",
     "exception": false,
     "start_time": "2023-06-10T18:06:45.785763",
     "status": "completed"
    },
    "tags": []
   },
   "outputs": [
    {
     "data": {
      "application/javascript": [
       "parent.postMessage({\"jupyterEvent\": \"custom.exercise_interaction\", \"data\": {\"outcomeType\": 1, \"valueTowardsCompletion\": 0.14285714285714285, \"interactionType\": 1, \"questionType\": 2, \"questionId\": \"5_BargainWine\", \"learnToolsVersion\": \"0.3.4\", \"failureMessage\": \"\", \"exceptionClass\": \"\", \"trace\": \"\"}}, \"*\")"
      ],
      "text/plain": [
       "<IPython.core.display.Javascript object>"
      ]
     },
     "metadata": {},
     "output_type": "display_data"
    },
    {
     "data": {
      "text/markdown": [
       "<span style=\"color:#33cc33\">Correct</span>"
      ],
      "text/plain": [
       "Correct"
      ]
     },
     "metadata": {},
     "output_type": "display_data"
    }
   ],
   "source": [
    "bargain_id = (reviews.points / reviews.price).idxmax()\n",
    "bargain_wine = reviews.loc[bargain_id, 'title']\n",
    "# Check your answer\n",
    "q5.check()"
   ]
  },
  {
   "cell_type": "code",
   "execution_count": 11,
   "id": "6d510613",
   "metadata": {
    "execution": {
     "iopub.execute_input": "2023-06-10T18:06:45.824950Z",
     "iopub.status.busy": "2023-06-10T18:06:45.824269Z",
     "iopub.status.idle": "2023-06-10T18:06:45.828334Z",
     "shell.execute_reply": "2023-06-10T18:06:45.827662Z"
    },
    "papermill": {
     "duration": 0.014331,
     "end_time": "2023-06-10T18:06:45.830316",
     "exception": false,
     "start_time": "2023-06-10T18:06:45.815985",
     "status": "completed"
    },
    "tags": []
   },
   "outputs": [],
   "source": [
    "#q5.hint()\n",
    "#q5.solution()"
   ]
  },
  {
   "cell_type": "markdown",
   "id": "a888c3f5",
   "metadata": {
    "papermill": {
     "duration": 0.007127,
     "end_time": "2023-06-10T18:06:45.844602",
     "exception": false,
     "start_time": "2023-06-10T18:06:45.837475",
     "status": "completed"
    },
    "tags": []
   },
   "source": [
    "## 6.\n",
    "There are only so many words you can use when describing a bottle of wine. Is a wine more likely to be \"tropical\" or \"fruity\"? Create a Series `descriptor_counts` counting how many times each of these two words appears in the `description` column in the dataset. (For simplicity, let's ignore the capitalized versions of these words.)"
   ]
  },
  {
   "cell_type": "code",
   "execution_count": 12,
   "id": "8bbc7b5a",
   "metadata": {
    "execution": {
     "iopub.execute_input": "2023-06-10T18:06:45.861122Z",
     "iopub.status.busy": "2023-06-10T18:06:45.860371Z",
     "iopub.status.idle": "2023-06-10T18:06:45.998416Z",
     "shell.execute_reply": "2023-06-10T18:06:45.997297Z"
    },
    "papermill": {
     "duration": 0.149038,
     "end_time": "2023-06-10T18:06:46.000787",
     "exception": false,
     "start_time": "2023-06-10T18:06:45.851749",
     "status": "completed"
    },
    "tags": []
   },
   "outputs": [
    {
     "data": {
      "application/javascript": [
       "parent.postMessage({\"jupyterEvent\": \"custom.exercise_interaction\", \"data\": {\"outcomeType\": 1, \"valueTowardsCompletion\": 0.14285714285714285, \"interactionType\": 1, \"questionType\": 1, \"questionId\": \"6_DescriptorCounts\", \"learnToolsVersion\": \"0.3.4\", \"failureMessage\": \"\", \"exceptionClass\": \"\", \"trace\": \"\"}}, \"*\")"
      ],
      "text/plain": [
       "<IPython.core.display.Javascript object>"
      ]
     },
     "metadata": {},
     "output_type": "display_data"
    },
    {
     "data": {
      "text/markdown": [
       "<span style=\"color:#33cc33\">Correct</span>"
      ],
      "text/plain": [
       "Correct"
      ]
     },
     "metadata": {},
     "output_type": "display_data"
    }
   ],
   "source": [
    "n_tropical = reviews.description.map(lambda des: \"tropical\" in des).sum()\n",
    "n_fruity = reviews.description.map(lambda des: \"fruity\" in des).sum()\n",
    "descriptor_counts = pd.Series([n_tropical,n_fruity], index=['tropical','fruity'])\n",
    "\n",
    "# Check your answer\n",
    "q6.check()"
   ]
  },
  {
   "cell_type": "code",
   "execution_count": 13,
   "id": "4bd6fe44",
   "metadata": {
    "execution": {
     "iopub.execute_input": "2023-06-10T18:06:46.017553Z",
     "iopub.status.busy": "2023-06-10T18:06:46.017186Z",
     "iopub.status.idle": "2023-06-10T18:06:46.021398Z",
     "shell.execute_reply": "2023-06-10T18:06:46.020401Z"
    },
    "papermill": {
     "duration": 0.015346,
     "end_time": "2023-06-10T18:06:46.023484",
     "exception": false,
     "start_time": "2023-06-10T18:06:46.008138",
     "status": "completed"
    },
    "tags": []
   },
   "outputs": [],
   "source": [
    "#q6.hint()\n",
    "#q6.solution()"
   ]
  },
  {
   "cell_type": "markdown",
   "id": "b70d78f8",
   "metadata": {
    "papermill": {
     "duration": 0.007146,
     "end_time": "2023-06-10T18:06:46.037917",
     "exception": false,
     "start_time": "2023-06-10T18:06:46.030771",
     "status": "completed"
    },
    "tags": []
   },
   "source": [
    "## 7.\n",
    "We'd like to host these wine reviews on our website, but a rating system ranging from 80 to 100 points is too hard to understand - we'd like to translate them into simple star ratings. A score of 95 or higher counts as 3 stars, a score of at least 85 but less than 95 is 2 stars. Any other score is 1 star.\n",
    "\n",
    "Also, the Canadian Vintners Association bought a lot of ads on the site, so any wines from Canada should automatically get 3 stars, regardless of points.\n",
    "\n",
    "Create a series `star_ratings` with the number of # Check your answer corresponding to each review in the dataset."
   ]
  },
  {
   "cell_type": "code",
   "execution_count": 14,
   "id": "b8838fad",
   "metadata": {
    "execution": {
     "iopub.execute_input": "2023-06-10T18:06:46.054083Z",
     "iopub.status.busy": "2023-06-10T18:06:46.053711Z",
     "iopub.status.idle": "2023-06-10T18:06:49.500303Z",
     "shell.execute_reply": "2023-06-10T18:06:49.499315Z"
    },
    "papermill": {
     "duration": 3.457311,
     "end_time": "2023-06-10T18:06:49.502360",
     "exception": false,
     "start_time": "2023-06-10T18:06:46.045049",
     "status": "completed"
    },
    "tags": []
   },
   "outputs": [
    {
     "data": {
      "application/javascript": [
       "parent.postMessage({\"jupyterEvent\": \"custom.exercise_interaction\", \"data\": {\"outcomeType\": 1, \"valueTowardsCompletion\": 0.14285714285714285, \"interactionType\": 1, \"questionType\": 1, \"questionId\": \"7_StarRatings\", \"learnToolsVersion\": \"0.3.4\", \"failureMessage\": \"\", \"exceptionClass\": \"\", \"trace\": \"\"}}, \"*\")"
      ],
      "text/plain": [
       "<IPython.core.display.Javascript object>"
      ]
     },
     "metadata": {},
     "output_type": "display_data"
    },
    {
     "data": {
      "text/markdown": [
       "<span style=\"color:#33cc33\">Correct</span>"
      ],
      "text/plain": [
       "Correct"
      ]
     },
     "metadata": {},
     "output_type": "display_data"
    }
   ],
   "source": [
    "def star(row):\n",
    "    if row.country == 'Canada':\n",
    "        return 3\n",
    "    elif row.points >= 95:\n",
    "        return 3\n",
    "    elif row.points >= 85:\n",
    "        return 2\n",
    "    else:\n",
    "        return 1\n",
    "    \n",
    "star_ratings = reviews.apply(star, axis='columns')\n",
    "q7.check()"
   ]
  },
  {
   "cell_type": "code",
   "execution_count": 15,
   "id": "563cc2f3",
   "metadata": {
    "execution": {
     "iopub.execute_input": "2023-06-10T18:06:49.519072Z",
     "iopub.status.busy": "2023-06-10T18:06:49.518646Z",
     "iopub.status.idle": "2023-06-10T18:06:49.522923Z",
     "shell.execute_reply": "2023-06-10T18:06:49.521964Z"
    },
    "papermill": {
     "duration": 0.014909,
     "end_time": "2023-06-10T18:06:49.524860",
     "exception": false,
     "start_time": "2023-06-10T18:06:49.509951",
     "status": "completed"
    },
    "tags": []
   },
   "outputs": [],
   "source": [
    "#q7.hint()\n",
    "#q7.solution()"
   ]
  },
  {
   "cell_type": "markdown",
   "id": "b7f3bf7a",
   "metadata": {
    "papermill": {
     "duration": 0.007522,
     "end_time": "2023-06-10T18:06:49.539715",
     "exception": false,
     "start_time": "2023-06-10T18:06:49.532193",
     "status": "completed"
    },
    "tags": []
   },
   "source": [
    "# Keep going\n",
    "Continue to **[grouping and sorting](https://www.kaggle.com/residentmario/grouping-and-sorting)**."
   ]
  },
  {
   "cell_type": "markdown",
   "id": "528448ab",
   "metadata": {
    "papermill": {
     "duration": 0.006986,
     "end_time": "2023-06-10T18:06:49.554004",
     "exception": false,
     "start_time": "2023-06-10T18:06:49.547018",
     "status": "completed"
    },
    "tags": []
   },
   "source": [
    "---\n",
    "\n",
    "\n",
    "\n",
    "\n",
    "*Have questions or comments? Visit the [course discussion forum](https://www.kaggle.com/learn/pandas/discussion) to chat with other learners.*"
   ]
  }
 ],
 "metadata": {
  "kernelspec": {
   "display_name": "Python 3",
   "language": "python",
   "name": "python3"
  },
  "language_info": {
   "codemirror_mode": {
    "name": "ipython",
    "version": 3
   },
   "file_extension": ".py",
   "mimetype": "text/x-python",
   "name": "python",
   "nbconvert_exporter": "python",
   "pygments_lexer": "ipython3",
   "version": "3.10.10"
  },
  "papermill": {
   "default_parameters": {},
   "duration": 22.504795,
   "end_time": "2023-06-10T18:06:50.382965",
   "environment_variables": {},
   "exception": null,
   "input_path": "__notebook__.ipynb",
   "output_path": "__notebook__.ipynb",
   "parameters": {},
   "start_time": "2023-06-10T18:06:27.878170",
   "version": "2.4.0"
  }
 },
 "nbformat": 4,
 "nbformat_minor": 5
}
